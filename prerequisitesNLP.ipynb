{
 "cells": [
  {
   "cell_type": "markdown",
   "metadata": {},
   "source": [
    "### print statement"
   ]
  },
  {
   "cell_type": "code",
   "execution_count": 4,
   "metadata": {},
   "outputs": [
    {
     "name": "stdout",
     "output_type": "stream",
     "text": [
      "this is america\n",
      "this is america\n"
     ]
    }
   ],
   "source": [
    "#using fstring\n",
    "country = \"america\"\n",
    "print(f'this is {country}')\n",
    "#using .format\n",
    "print(\"this is {}\".format(country))"
   ]
  },
  {
   "cell_type": "code",
   "execution_count": 5,
   "metadata": {},
   "outputs": [
    {
     "name": "stdout",
     "output_type": "stream",
     "text": [
      "i love apple but i hate banana\n"
     ]
    }
   ],
   "source": [
    "#best thing about fstring is that you can perform operation inside curly braces\n",
    "mydict = {1:'apple',2:'banana'}\n",
    "print(f'i love {mydict[1]} but i hate {mydict[2]}')\n"
   ]
  },
  {
   "cell_type": "code",
   "execution_count": 10,
   "metadata": {},
   "outputs": [
    {
     "name": "stdout",
     "output_type": "stream",
     "text": [
      "this       is best    America   \n",
      "this       is         Australia \n",
      "this                  India     \n"
     ]
    }
   ],
   "source": [
    "# since different variables contain different length values we can add padding in them-\n",
    "data = [('this', 'is best', 'America'),\n",
    " ('this', 'is ', 'Australia'),\n",
    " ('this','', 'India')]\n",
    "for i,j,k in data:\n",
    "    print(f\"{i:{10}} {j:{10}} {k:{10}}\")"
   ]
  },
  {
   "cell_type": "code",
   "execution_count": 18,
   "metadata": {},
   "outputs": [],
   "source": [
    "# jupyter command to read a file-"
   ]
  },
  {
   "cell_type": "code",
   "execution_count": 19,
   "metadata": {},
   "outputs": [
    {
     "name": "stdout",
     "output_type": "stream",
     "text": [
      "Writing test.txt\n"
     ]
    }
   ],
   "source": [
    "%%writefile test.txt\n",
    "Hello, this is a text file.\n",
    "this is second file."
   ]
  },
  {
   "cell_type": "code",
   "execution_count": 23,
   "metadata": {},
   "outputs": [
    {
     "name": "stdout",
     "output_type": "stream",
     "text": [
      "Hello, this is a text file.\n",
      "this is second file.\n",
      "\n",
      "['Hello, this is a text file.\\n', 'this is second file.\\n']\n"
     ]
    }
   ],
   "source": [
    "with open ('./test.txt') as file:\n",
    "    text = file.read()\n",
    "print(text)\n",
    "# reading line by line\n",
    "with open ('./test.txt') as file:\n",
    "    text = file.readlines()\n",
    "    print(text)"
   ]
  },
  {
   "cell_type": "code",
   "execution_count": 26,
   "metadata": {},
   "outputs": [],
   "source": [
    "#write to a file.It will ovwer write data-\n",
    "with open ('./test.txt', 'w+') as file:\n",
    "    file.write(\"pikachu\")"
   ]
  },
  {
   "cell_type": "code",
   "execution_count": 29,
   "metadata": {},
   "outputs": [],
   "source": [
    "#append to a file-\n",
    "with open ('./test.txt', 'a+') as file:\n",
    "    file.write(\"pikachu\")"
   ]
  },
  {
   "cell_type": "markdown",
   "metadata": {},
   "source": [
    "### pdf files-"
   ]
  },
  {
   "cell_type": "code",
   "execution_count": null,
   "metadata": {},
   "outputs": [],
   "source": [
    "import PyPDF2 as pdf\n",
    "with open ('/home/webhav/Downloads/AXIS BANK  Statement for July 2020.pdf',mode='rb') as file:\n",
    "    data = pdf.PdfFileReader(file)\n",
    "pag1 = data.getPage(0)\n",
    "pag1.extractText"
   ]
  },
  {
   "cell_type": "code",
   "execution_count": null,
   "metadata": {},
   "outputs": [],
   "source": []
  }
 ],
 "metadata": {
  "kernelspec": {
   "display_name": "Python 3",
   "language": "python",
   "name": "python3"
  },
  "language_info": {
   "codemirror_mode": {
    "name": "ipython",
    "version": 3
   },
   "file_extension": ".py",
   "mimetype": "text/x-python",
   "name": "python",
   "nbconvert_exporter": "python",
   "pygments_lexer": "ipython3",
   "version": "3.6.9"
  }
 },
 "nbformat": 4,
 "nbformat_minor": 4
}
